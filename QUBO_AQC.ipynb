{
 "cells": [
  {
   "cell_type": "markdown",
   "metadata": {
    "id": "a4E8G5O1A8Gz"
   },
   "source": [
    "Copy your API token (on the webpage click `COPY`) and paste it in the cell below.\n",
    "> &#9888;&#65039; It is a new way of using the token!"
   ]
  },
  {
   "cell_type": "code",
   "metadata": {
    "id": "WdTYiIbLA8G0",
    "ExecuteTime": {
     "end_time": "2024-05-07T07:32:57.395224Z",
     "start_time": "2024-05-07T07:32:57.389471Z"
    }
   },
   "source": "token = 'DEV-b4c56900cac9868d4945308494feaba866a912e6'",
   "outputs": [],
   "execution_count": 2
  },
  {
   "cell_type": "markdown",
   "metadata": {
    "id": "7v0LgMkfA8G1"
   },
   "source": [
    "Make all the necessary imports as explained in `Ising_Problem_AQC.ipynb`."
   ]
  },
  {
   "cell_type": "code",
   "metadata": {
    "id": "EDYRiU3fA8G1",
    "ExecuteTime": {
     "end_time": "2024-05-07T07:33:10.368638Z",
     "start_time": "2024-05-07T07:33:10.364727Z"
    }
   },
   "source": [
    "try:\n",
    "  import google.colab\n",
    "  IN_COLAB = True\n",
    "except:\n",
    "  IN_COLAB = False\n",
    "\n",
    "if IN_COLAB:\n",
    "  !pip install dwave-ocean-sdk && dwave config create"
   ],
   "outputs": [],
   "execution_count": 3
  },
  {
   "cell_type": "code",
   "metadata": {
    "id": "IMabhixlA8G1",
    "ExecuteTime": {
     "end_time": "2024-05-07T07:43:56.886907Z",
     "start_time": "2024-05-07T07:43:54.432319Z"
    }
   },
   "source": [
    "from dwave.cloud import Client\n",
    "with Client.from_config(token=token) as client:\n",
    "  available_solvers = client.get_solvers()\n",
    "\n",
    "for solver in available_solvers:\n",
    "  print(solver)"
   ],
   "outputs": [
    {
     "name": "stdout",
     "output_type": "stream",
     "text": [
      "BQMSolver(id='hybrid_binary_quadratic_model_version2')\n",
      "DQMSolver(id='hybrid_discrete_quadratic_model_version1')\n",
      "StructuredSolver(id='Advantage_system4.1')\n",
      "CQMSolver(id='hybrid_constrained_quadratic_model_version1')\n",
      "StructuredSolver(id='Advantage_system6.4')\n",
      "StructuredSolver(id='Advantage2_prototype2.3')\n"
     ]
    }
   ],
   "execution_count": 5
  },
  {
   "cell_type": "code",
   "metadata": {
    "id": "iE-DvezEA8G1",
    "ExecuteTime": {
     "end_time": "2024-05-07T07:44:07.742307Z",
     "start_time": "2024-05-07T07:44:06.153393Z"
    }
   },
   "source": [
    "from dwave.cloud import Client\n",
    "with Client.from_config(token=token) as client:\n",
    "  solver = client.get_solver('Advantage_system6.4')   # SELECT THE SOLVER"
   ],
   "outputs": [],
   "execution_count": 6
  },
  {
   "cell_type": "markdown",
   "metadata": {
    "id": "qBInInTMA8G2"
   },
   "source": [
    "# QUBO problems"
   ]
  },
  {
   "cell_type": "markdown",
   "metadata": {
    "id": "zlj0Rq1bA8G2"
   },
   "source": [
    "\n",
    "> 📖 **QUBO:** **Q**uadratic **U**nconstrained **B**inary **O**ptimization\n"
   ]
  },
  {
   "cell_type": "markdown",
   "metadata": {
    "id": "aSVau8InA8G2"
   },
   "source": [
    "QUBO problems are traditionally used in computer science, hence their importance along with Ising problems. The variables $x_i$ can take values $1$ (`True`) or $0$ (`False`)."
   ]
  },
  {
   "cell_type": "markdown",
   "metadata": {
    "id": "ppKE-5VAA8G2"
   },
   "source": [
    "QUBO problems are *unconstrained* in that there are no constraints on the variables other than those expressed in $Q$."
   ]
  },
  {
   "cell_type": "markdown",
   "metadata": {
    "id": "LlBn72fzA8G2"
   },
   "source": [
    "A QUBO problem is defined using an upper-diagonal matrix $Q$, which is an $N\\times N$ matrix with real weights. The associated optimization problem requires the minimization of an energy function $E_P$ written as follows:\n",
    "$$\n",
    "\\min_{x\\in\\lbrace 0,1 \\rbrace^N} E_P(x)\\quad\\text{where}\\quad E_P\n",
    "    =  \\sum_{i\\le j} x_i Q_{ij} x_j\n",
    "    \\qquad\\qquad x_i\\in \\{0,1\\}\n",
    "$$"
   ]
  },
  {
   "cell_type": "markdown",
   "metadata": {
    "id": "rTyESSL9A8G2"
   },
   "source": [
    "And we have\n",
    "\n",
    "$$\n",
    "E_P = \\begin{pmatrix}\n",
    "x_1 & x_2 & \\cdots & x_n\n",
    "\\end{pmatrix}\n",
    "Q\n",
    "\\begin{pmatrix}\n",
    "x_1 \\\\ x_2 \\\\ \\vdots \\\\ x_n\n",
    "\\end{pmatrix}\n",
    "$$\n",
    "\n",
    "> &#9888;&#65039; **Notice!** For any binary variable $x_i$ we have $(x_i)^2 = x_i$"
   ]
  },
  {
   "cell_type": "markdown",
   "metadata": {
    "id": "WBI-r0zYA8G2"
   },
   "source": [
    "The QUBO problem is of great significance in various fields, including optimization, operations research, machine learning, and quantum computing. It serves as a fundamental building block for solving many real-world optimization problems, such as resource allocation, logistics planning, and scheduling."
   ]
  },
  {
   "cell_type": "markdown",
   "metadata": {
    "id": "onDWpuZ3A8G3"
   },
   "source": [
    "## Logic Gates on Adiabatic Quantum Computers"
   ]
  },
  {
   "cell_type": "markdown",
   "metadata": {
    "id": "j8w-_v_bA8G3"
   },
   "source": [
    "### Logic AND"
   ]
  },
  {
   "cell_type": "markdown",
   "metadata": {
    "id": "TStYay13A8G3"
   },
   "source": [
    "The logic gate AND has truth table\n",
    "\n",
    "| input 1 | input 2 | output |\n",
    "| :-----: | :-----: | :----: |\n",
    "| 0       | 0       | 0      |\n",
    "| 0       | 1       | 0      |\n",
    "| 1       | 0       | 0      |\n",
    "| 1       | 1       | 1      |"
   ]
  },
  {
   "cell_type": "markdown",
   "metadata": {
    "id": "Fq1y20_lA8G3"
   },
   "source": [
    "Consider all possible configurations of 3 binary variables ($2^3=8$ configurations):\n",
    "\n",
    "\n",
    "| x1   | x2   | x3   |\n",
    "| :--: | :--: | :--: |\n",
    "| **0** | **0** | **0** |\n",
    "| 0    | 0    | 1    |\n",
    "| **0** | **1** | **0** |\n",
    "| **1** | **0** | **0** |\n",
    "| 0    | 1    | 1    |\n",
    "| 1    | 0    | 1    |\n",
    "| 1    | 1    | 0    |\n",
    "| **1** | **1** | **1** |"
   ]
  },
  {
   "cell_type": "markdown",
   "metadata": {
    "id": "4jHmj8hZA8G3"
   },
   "source": [
    "I have highlighted the solution configurations in bold.\n",
    "\n",
    "Now we need to find a cost function (aka energy function) which evaluates at a lower value for assignments of variables that match valid states of the gate (in bold), and higher values for invalid assignments of variables (not in bold)"
   ]
  },
  {
   "cell_type": "markdown",
   "metadata": {
    "id": "waCZIo5rA8G3"
   },
   "source": [
    "Consider the following function:\n",
    "\n",
    "$$\n",
    "E = 3x_3 + x_1x_2 -2x_1x_3 -2x_2x_3\n",
    "$$"
   ]
  },
  {
   "cell_type": "markdown",
   "metadata": {
    "id": "iJkXyIh7A8G3"
   },
   "source": [
    "##### **Exercise 1**\n",
    "\n",
    "Evaluate the energy of each configuration, using the above expression. Which configuration has lowest energy?"
   ]
  },
  {
   "cell_type": "markdown",
   "metadata": {
    "id": "RqtdqD7DA8G3"
   },
   "source": [
    "Click this cell and fill the energy column (instead of the # symbol):\n",
    "\n",
    "| x1   | x2   | x3      | E     |\n",
    "| :--: | :--: | :--:    | :--:  |\n",
    "| **0** | **0** | **0** |   #   |\n",
    "| 0    | 0    | 1       |   #   |\n",
    "| **0** | **1** | **0** |   #   |\n",
    "| **1** | **0** | **0** |   #   |\n",
    "| 0    | 1    | 1       |   #   |\n",
    "| 1    | 0    | 1       |   #   |\n",
    "| 1    | 1    | 0       |   #   |\n",
    "| **1** | **1** | **1** |   #   |"
   ]
  },
  {
   "cell_type": "markdown",
   "metadata": {
    "id": "HklOZHPbA8G3"
   },
   "source": [
    "The function $E$ is quadratic, since it only involves product of two variables at most, and the variables are binary, i.e. only take 0 or 1 values. This means that we have formulated our first QUBO problem!\n",
    "\n",
    "In matrix form it may be represented as\n",
    "\n",
    "$$\n",
    "Q =\n",
    "\\begin{pmatrix}\n",
    "0 & 1 & -2  \\\\\n",
    "  & 0 & -2  \\\\\n",
    "  &   & 3   \n",
    "\\end{pmatrix}\n",
    "$$"
   ]
  },
  {
   "cell_type": "markdown",
   "metadata": {
    "id": "bh1WYxl9A8G3"
   },
   "source": [
    "It is now time to write in Python such a QUBO problem: just write `Q` as a dictionary!"
   ]
  },
  {
   "cell_type": "code",
   "metadata": {
    "id": "AYJehxCnA8G3",
    "ExecuteTime": {
     "end_time": "2024-05-07T07:46:24.180264Z",
     "start_time": "2024-05-07T07:46:24.176920Z"
    }
   },
   "source": [
    "Q = {('x1', 'x2'): 1, ('x1', 'x3'): -2, ('x2', 'x3'): -2, ('x3', 'x3'): 3}"
   ],
   "outputs": [],
   "execution_count": 9
  },
  {
   "cell_type": "markdown",
   "metadata": {
    "id": "G73CV_MJA8G4"
   },
   "source": [
    "Now we can solve the problem by calling the DWave computer. This time we call the `sample_qubo` method!"
   ]
  },
  {
   "cell_type": "code",
   "metadata": {
    "id": "owWJfgenA8G4",
    "ExecuteTime": {
     "end_time": "2024-05-07T07:46:18.244079Z",
     "start_time": "2024-05-07T07:46:13.146534Z"
    }
   },
   "source": [
    "from dwave.system import DWaveSampler, EmbeddingComposite\n",
    "sampler = DWaveSampler(token=token, solver='Advantage_system6.4')\n",
    "sampler_embedded = EmbeddingComposite(sampler)"
   ],
   "outputs": [],
   "execution_count": 7
  },
  {
   "cell_type": "code",
   "metadata": {
    "id": "_OojvQNrA8G4",
    "ExecuteTime": {
     "end_time": "2024-05-07T07:46:29.489392Z",
     "start_time": "2024-05-07T07:46:26.354090Z"
    }
   },
   "source": [
    "sampleset = sampler_embedded.sample_qubo(Q, num_reads=100, label='AND gate')\n",
    "\n",
    "print(sampleset)"
   ],
   "outputs": [
    {
     "name": "stdout",
     "output_type": "stream",
     "text": [
      "  x1 x2 x3 energy num_oc. chain_.\n",
      "0  0  1  0    0.0      19     0.0\n",
      "1  1  0  0    0.0      27     0.0\n",
      "2  0  0  0    0.0      44     0.0\n",
      "3  1  1  1    0.0      10     0.0\n",
      "['BINARY', 4 rows, 100 samples, 3 variables]\n"
     ]
    }
   ],
   "execution_count": 10
  },
  {
   "cell_type": "markdown",
   "metadata": {
    "id": "0gviSQ01A8G4"
   },
   "source": [
    "### Logic NOT"
   ]
  },
  {
   "cell_type": "markdown",
   "metadata": {
    "id": "NcjOUbx-A8G4"
   },
   "source": [
    "##### **Exercise 2**\n",
    "\n",
    "Write the QUBO problem associated with the NOT logic gate, which has the following truth table:\n",
    "\n",
    "| input  | output |\n",
    "| :----: | :----: |\n",
    "| 0      | 1      |\n",
    "| 1      | 0      |"
   ]
  },
  {
   "cell_type": "markdown",
   "metadata": {
    "id": "oCeVN8heA8G4"
   },
   "source": [
    "> &#128161; To practice with different attempts I suggest you to write down here the cost function (you can use $\\LaTeX$ typescripting)\n",
    "\n",
    "$$\n",
    "E = - x_1 -x_2 +2x_1x_2\n",
    "$$"
   ]
  },
  {
   "cell_type": "markdown",
   "metadata": {
    "id": "3VFyg3lbA8G4"
   },
   "source": [
    "and check the energy of each configuration:\n",
    "\n",
    "| x1    | x2    | $E$ |\n",
    "| :--:  | :--:  |:---:|\n",
    "| 0     | 0     |  0  |\n",
    "| **0** | **1** | -1  |\n",
    "| **1** | **0** | -1  |\n",
    "| 1     | 1     |  0  |"
   ]
  },
  {
   "cell_type": "markdown",
   "metadata": {
    "id": "Cj0DbDg1A8G4"
   },
   "source": [
    "So starting from an initial guess $E_1$ we managed to find an good cost function $E_2$."
   ]
  },
  {
   "cell_type": "markdown",
   "metadata": {
    "id": "dyJVcIWCA8G5"
   },
   "source": [
    "Afterwards write the relative dictionary `Q`:"
   ]
  },
  {
   "cell_type": "code",
   "metadata": {
    "id": "MfMyiv4mA8G5",
    "ExecuteTime": {
     "end_time": "2024-05-07T07:56:50.484063Z",
     "start_time": "2024-05-07T07:56:50.479423Z"
    }
   },
   "source": "Q = {('x1', 'x1'): -1 ,('x1', 'x2'): 2, ('x2', 'x2'): -1}",
   "outputs": [],
   "execution_count": 11
  },
  {
   "cell_type": "code",
   "metadata": {
    "id": "ErZ6jJ7iA8G5",
    "ExecuteTime": {
     "end_time": "2024-05-07T07:57:05.721913Z",
     "start_time": "2024-05-07T07:57:00.509150Z"
    }
   },
   "source": [
    "from dwave.system import DWaveSampler, EmbeddingComposite\n",
    "sampler = DWaveSampler(token=token, solver='Advantage_system6.4')\n",
    "sampler_embedded = EmbeddingComposite(sampler)\n",
    "sampleset = sampler_embedded.sample_qubo(Q, num_reads=100, label='NOT gate')\n",
    "\n",
    "print(sampleset)"
   ],
   "outputs": [
    {
     "name": "stdout",
     "output_type": "stream",
     "text": [
      "  x1 x2 energy num_oc. chain_.\n",
      "0  0  1   -1.0      37     0.0\n",
      "1  1  0   -1.0      63     0.0\n",
      "['BINARY', 2 rows, 100 samples, 2 variables]\n"
     ]
    }
   ],
   "execution_count": 12
  },
  {
   "cell_type": "markdown",
   "metadata": {
    "id": "CHJB7XyrA8G5"
   },
   "source": [
    "If you want to convert QUBO problems to Ising, you can use python library `dimod`, which has the method `dimod.qubo_to_ising()`."
   ]
  },
  {
   "cell_type": "markdown",
   "metadata": {
    "id": "ZR7q1BkvA8G5"
   },
   "source": [
    "## Minor-Embedding \\& Chains"
   ]
  },
  {
   "cell_type": "markdown",
   "metadata": {
    "id": "dhx0nDyCA8G5"
   },
   "source": [
    "Because the D-Wave System is graph-structured but most problems of application interest are not, it is convenient to be able to map from a structured sampler to an unstructured one.\n",
    "A structured sampler is one that can only solve problems that map to a specific graph (Pegasus or Chimera).\n",
    "\n",
    "The most adventurous ones of you can find more details in [Minor-Embedding in Adiabatic Quantum Computation](https://arxiv.org/abs/0804.4884)."
   ]
  },
  {
   "cell_type": "markdown",
   "metadata": {
    "id": "WbZN5QImA8G5"
   },
   "source": [
    "Consider the following QUBO problem:\n",
    "\n",
    "$$\n",
    "2ab + 2ac + 2bc - a - b - c\n",
    "$$\n",
    "\n",
    "Which has a triangular complete graph representation of dimension 3, so it is called $K_3$.\n",
    "\n",
    "To understand how chaining qubits overcomes the problem of sparse connectivity, consider minor embedding such graph into two target graphs, one sparser than the other.\n",
    "I show you two such embeddings in the figure below: the triangular graph is mapped on the left to a fully-connected graph of four nodes (called a\n",
    "$K_4$ complete graph ) and on the right to a sparser graph, also of four nodes.\n",
    "\n",
    "![img](https://github.com/dwavesystems/dwave-ocean-sdk/blob/master/docs/_images/chain_triangle_four_qubits.png?raw=true)"
   ]
  },
  {
   "cell_type": "markdown",
   "metadata": {
    "id": "BQsx48ffA8G6"
   },
   "source": [
    "For the left-hand embedding, you can choose any mapping between {a,b,c} and {0,1,2,3}.\n",
    "For example, here {a,b,c} are mapped to {2,0,1}, respectively.\n",
    "\n",
    "For the right-hand embedding, however, no choice of just three target nodes suffices!\n",
    "The same {2,0,1} target nodes leaves b disconnected from c.\n",
    "**Chaining** target nodes 0 and 3 to represent node b makes use of both the connection between 0 to 2 and the connection between 3 and 1.\n",
    "\n",
    "On QPUs, chaining qubits is accomplished by setting the strength of their connecting couplers negative enough to strongly correlate the states of the chained qubits;\n",
    "if at the end of most anneals these qubits are in the same classical state, representing the same binary value in the objective function,\n",
    "they are in effect acting as a single variable."
   ]
  },
  {
   "cell_type": "markdown",
   "metadata": {
    "id": "3CCF7mLeA8G6"
   },
   "source": [
    "With the old Chimera topology it was impossible to map the AND QUBO problem with only 3 physical qubits. Now that the `Advantage System` upgraded to Pegasus topology, embedding a complete graph of size 3 is not a problem anymore."
   ]
  },
  {
   "cell_type": "markdown",
   "metadata": {
    "id": "MKY5ogBzA8G6"
   },
   "source": [
    "> The `EmbeddingComposite` uses the `minorminer` library to map unstructured problems to a structured sampler."
   ]
  },
  {
   "cell_type": "markdown",
   "metadata": {
    "id": "l2tzo4-vA8G6"
   },
   "source": [
    "##### **Exercise 3**\n",
    "Build a complete graph of size N (small of your choice). Then convert it to QUBO problem and set the couplings to 0 or 1 randomly.\n",
    "\n",
    "Find the embedding with `find_embedding()` (you can find everything in the previous lesson). Print the embedding.\n",
    "\n",
    "1. How many qubits do you need? More or equal than N?\n",
    "2. What is the maximum size N of a complete graph that uses only N physical qubits?"
   ]
  },
  {
   "cell_type": "markdown",
   "metadata": {
    "id": "jfgQGElWA8G6"
   },
   "source": [
    "> &#128161; **Hint:** You can use the `networkx` library OR the `itertools` library. Feel free to explore!"
   ]
  },
  {
   "cell_type": "code",
   "metadata": {
    "id": "z41sPHhOA8G6",
    "ExecuteTime": {
     "end_time": "2024-05-07T08:22:38.092219Z",
     "start_time": "2024-05-07T08:22:36.265233Z"
    }
   },
   "source": [
    "from dwave.system.samplers import DWaveSampler\n",
    "from dwave.system.composites import FixedEmbeddingComposite\n",
    "from minorminer import find_embedding\n",
    "import random\n",
    "import networkx as nx\n",
    "import matplotlib as plt\n",
    "\n",
    "\n",
    "sampler = DWaveSampler(token=token, solver='Advantage_system6.4')\n",
    "\n",
    "__, target_edgelist, target_adjacency = sampler.structure\n",
    "\n",
    "N= 4\n",
    "#Q = {('x1', 'x1'): -1 ,('x2', 'x2'): -1, ('x3', 'x3'): -1, ('x1', 'x2'): 2, ('x1', 'x3'): 2, ('x2', 'x3'): 2}\n",
    "\n"
   ],
   "outputs": [],
   "execution_count": 16
  },
  {
   "cell_type": "markdown",
   "metadata": {
    "id": "BwU9XduMA8G6"
   },
   "source": [
    "The `itertools` way"
   ]
  },
  {
   "cell_type": "code",
   "execution_count": null,
   "metadata": {
    "id": "_biQTizQA8G6"
   },
   "outputs": [],
   "source": [
    "import itertools\n",
    "\n",
    "###"
   ]
  },
  {
   "cell_type": "markdown",
   "metadata": {
    "id": "YX7s-6TVA8G7"
   },
   "source": [
    "The `networkx` way"
   ]
  },
  {
   "cell_type": "code",
   "metadata": {
    "id": "ebXmBDd_A8G7",
    "ExecuteTime": {
     "end_time": "2024-05-07T08:33:13.788173Z",
     "start_time": "2024-05-07T08:33:13.709544Z"
    }
   },
   "source": [
    "import networkx as nx\n",
    "\n",
    "###\n",
    "G = nx.complete_graph(N)\n",
    "nx.draw(G, with_labels=True)\n",
    "\n",
    "G.add_edges_from([\n",
    "  (0,1, {'sign': random.choice([0,1])}),\n",
    "  (0,2, {'sign': random.choice([0,1])}),\n",
    "  (0,3, {'sign': random.choice([0,1])}),\n",
    "  (1,2, {'sign': random.choice([0,1])}),\n",
    "  (1,3, {'sign': random.choice([0,1])}),\n",
    "  (2,3, {'sign': random.choice([0,1])}),\n",
    "])\n",
    "\n",
    "emb = find_embedding(G, target_edgelist, verbose= 1 )\n",
    "emb"
   ],
   "outputs": [
    {
     "data": {
      "text/plain": [
       "{0: [206], 1: [191], 2: [4935], 3: [4920]}"
      ]
     },
     "execution_count": 27,
     "metadata": {},
     "output_type": "execute_result"
    },
    {
     "data": {
      "text/plain": [
       "<Figure size 640x480 with 1 Axes>"
      ],
      "image/png": "[encoded data removed]"
     },
     "metadata": {},
     "output_type": "display_data"
    }
   ],
   "execution_count": 27
  },
  {
   "cell_type": "markdown",
   "metadata": {
    "id": "8jpCr6nHA8G7"
   },
   "source": [
    "For long chains, it is possible to run into some broken chains.\n",
    "> 🖐️ Raise your hand if you find a broken chain!"
   ]
  },
  {
   "cell_type": "markdown",
   "metadata": {
    "id": "NG7w8uHYA8G7"
   },
   "source": [
    "## Constrained Optimization"
   ]
  },
  {
   "cell_type": "markdown",
   "metadata": {
    "id": "-6bHpp8LA8G7"
   },
   "source": [
    "The QUBO formulation is very powerful, since it let you implement also **constrained** problems by simply adding a penalty function!\n",
    "\n",
    "If you don't believe me go back at the previous section... what is a chain? Yes it is basically a constraint!\n",
    "So you already solved a constrained binary optimization problem, without even noticing it!"
   ]
  },
  {
   "cell_type": "markdown",
   "metadata": {
    "id": "lZtTDTjwA8G8"
   },
   "source": [
    "In this section we are going to solve a constrained problem with a little more attention. The main point is finding a proper penalty function!"
   ]
  },
  {
   "cell_type": "markdown",
   "metadata": {
    "id": "MIFqkFyMA8G8"
   },
   "source": [
    "Let's start from a simple equation. Consider three variables $x_1,\\, x_2,\\, x_3$ and the following equation:\n",
    "\n",
    "$$\n",
    "x_1 + x_2 + x_3 = 3\n",
    "$$\n",
    "\n",
    "The solution is trivial (all binaries equal to $1$), but if you want to use an adiabatic quantum computer in order to solve it you must write it as a minimization problem.\n",
    "Therefore you need the canonical form of the equation you want to solve: in this example the equation rewrites\n",
    "\n",
    "$$\n",
    "f(x_1, x_2, x_3) = 3 - x_1 - x_2 - x_3 \\le 0\n",
    "$$\n",
    "where the equality holds when the solution is met.\n",
    "\n",
    "The minimization problem is\n",
    "$$\n",
    "\\min_{x_1, x_2, x_3} = f(x_1, x_2, x_3)\n",
    "$$\n",
    "and the solution of the starting equation is then $\\arg \\min f$.\n"
   ]
  },
  {
   "cell_type": "markdown",
   "metadata": {
    "id": "ttsfRjS4A8G8"
   },
   "source": [
    "##### **Exercise 4**\n",
    "\n",
    "There is another way of expressing $f(x_1, x_2, x_3)$ (which one?), but why didn't we use it?"
   ]
  },
  {
   "cell_type": "markdown",
   "source": [
    "*Answer:* ???"
   ],
   "metadata": {
    "id": "JIn3A5FfDB6X"
   }
  },
  {
   "cell_type": "markdown",
   "metadata": {
    "id": "IB8ylBKlA8G8"
   },
   "source": [
    "More tips on how to formulate a problem at the page [Reformulating a Problem](https://docs.dwavesys.com/docs/latest/handbook_reformulating.html)"
   ]
  },
  {
   "cell_type": "code",
   "execution_count": null,
   "metadata": {
    "id": "mZc7fOKUA8G8"
   },
   "outputs": [],
   "source": []
  },
  {
   "cell_type": "markdown",
   "metadata": {
    "id": "JYQscX9xA8G8"
   },
   "source": [
    "### HUBO problems"
   ]
  },
  {
   "cell_type": "markdown",
   "metadata": {
    "id": "yMTiOTDDA8G8"
   },
   "source": [
    "\n",
    "> 📖 **HUBO:** **H**igher-order **U**nconstrained **B**inary **O**ptimization\n"
   ]
  },
  {
   "cell_type": "markdown",
   "metadata": {
    "id": "sM9Q-Dn4A8G8"
   },
   "source": [
    "An interesting example of constrained problem is the formulation of a Higher-order Binary Optimization (HUBO) problem, as a QUBO!"
   ]
  },
  {
   "cell_type": "markdown",
   "metadata": {
    "id": "Q64HvtcLA8G9"
   },
   "source": [
    "Consider the following HUBO problem:\n",
    "$$\n",
    "E_P = x_1x_2x_3 - x_1x_2 + x_3\n",
    "$$\n",
    "\n",
    "The term $x_1x_2x_3$ makes $E_P$ cubic and not quadratic anymore.\n",
    "Luckily for us, we have all the needed knowledge to solve such a problem on the DWave quantum computer, even if it only accept quadratic problems.\n",
    "\n",
    "In this section we will learn how to reduce the degree of a polinomial optimization problem.\n",
    "\n",
    "> Before continuing, Can you think a way out by yourself?"
   ]
  },
  {
   "cell_type": "markdown",
   "metadata": {
    "id": "h64pFAPiA8G9"
   },
   "source": [
    "A clever way is defining a new variable\n",
    "$$\n",
    "x_4 = x_2x_3\n",
    "$$\n",
    "\n",
    "and substitute it into $E_P$. You have now\n",
    "$$\n",
    "\\widetilde{E}_P = x_1x_4 - x_1x_2 + x_3\n",
    "$$\n",
    "which is quadratic! But now we have a quadratic *constrained* (on $x_4$) binary optimization problem. Hence we need to enforce the constraint as a penalty function.\n",
    "Consider all possible cases:\n",
    "\n",
    "| $x_2$ | $x_3$ | $x_4$|\n",
    "| :--:  | :--:  | :--: |\n",
    "| 0     | 0     |   0  |\n",
    "|     0 |     1 |   0  |\n",
    "|     1 |     0 |   0  |\n",
    "| 1     | 1     |   1  |\n",
    "\n",
    "Wait a second... this is the AND gate! As a matter of fact the AND gate can be thought of as the product of the two binary variables. So we already know the penalty function for this constraint:\n",
    "\n",
    "$$\n",
    "f(x_2, x_3, x_4) = 3x_4 + x_2x_3 -2x_2x_4 -2x_3x_4\n",
    "$$\n",
    "\n",
    "and the problem can be finally written as a QUBO\n",
    "$$\n",
    "E_P = \\underbrace{x_1x_4 - x_1x_2 + x_3}_{\\text{objective}} + \\underbrace{3x_4 + x_2x_3 -2x_2x_4 -2x_3x_4}_{\\text{penalty term (constraint)}}\n",
    "$$"
   ]
  },
  {
   "cell_type": "markdown",
   "metadata": {
    "id": "3CQEEEFcA8G9"
   },
   "source": [
    "\n",
    "In matrix form it becomes\n",
    "$$\n",
    "Q =\n",
    "\\begin{pmatrix}\n",
    "0 & -1 & -2 & 1  \\\\\n",
    "  & 0 & 1   & -2  \\\\\n",
    "  &   & 1   & -2  \\\\\n",
    "  &   &     & 3  \n",
    "\\end{pmatrix}\n",
    "$$"
   ]
  },
  {
   "cell_type": "markdown",
   "metadata": {
    "id": "KbUv6IQFA8G9"
   },
   "source": [
    "##### **Final Exercise**\n",
    "\n",
    "Solve the following HUBO with the DWave Advantage System\n",
    "\n",
    "$$\n",
    "E_P = x_1 x_2 x_3 x_4\n",
    "$$"
   ]
  },
  {
   "cell_type": "markdown",
   "metadata": {
    "id": "BCcThl6PA8G9"
   },
   "source": [
    "*Solution:*\n",
    "$$\n",
    "E_P = x_5x_6 + (3x_5 + x_1x_2 - 2x_1x_5 - 2x_2x_5) + (3x_6 + x_3x_4 - 2x_3x_6 - 2x_4x_6)\n",
    "$$\n",
    "In matrix form becomes:\n",
    "$$\n",
    "Q = \n",
    "$$"
   ]
  },
  {
   "cell_type": "code",
   "metadata": {
    "id": "JzhIwQBMA8G9",
    "ExecuteTime": {
     "end_time": "2024-05-07T08:54:42.847778Z",
     "start_time": "2024-05-07T08:54:42.843888Z"
    }
   },
   "source": [
    "Q = {('x5','x6'): 1, ('x5','x5'): 3, ('x1','x2'): 1, ('x1','x5'): -2, ('x2','x5'): -2, ('x6','x6'): 3,\n",
    "('x3','x4'): 1, ('x3','x6'): -2, ('x4','x6'): -2}"
   ],
   "outputs": [],
   "execution_count": 30
  },
  {
   "cell_type": "code",
   "metadata": {
    "id": "N41Cp-bkA8G9",
    "ExecuteTime": {
     "end_time": "2024-05-07T09:09:05.063794Z",
     "start_time": "2024-05-07T09:08:59.974052Z"
    }
   },
   "source": [
    "sampler = DWaveSampler(token=token, solver='Advantage_system6.4')\n",
    "sampler_embedded = EmbeddingComposite(sampler)\n",
    "sampleset = sampler_embedded.sample_qubo(Q, num_reads=1000, label='HUBO problem')\n",
    "\n",
    "print(sampleset)"
   ],
   "outputs": [
    {
     "name": "stdout",
     "output_type": "stream",
     "text": [
      "   x1 x2 x3 x4 x5 x6 energy num_oc. chain_.\n",
      "0   0  1  0  1  0  0    0.0      21     0.0\n",
      "1   1  0  1  1  0  1    0.0      51     0.0\n",
      "2   1  1  0  1  1  0    0.0      34     0.0\n",
      "3   1  0  0  0  0  0    0.0      38     0.0\n",
      "4   0  1  0  0  0  0    0.0      42     0.0\n",
      "5   1  1  0  0  1  0    0.0      93     0.0\n",
      "6   0  0  0  1  0  0    0.0      53     0.0\n",
      "7   0  0  0  0  0  0    0.0     117     0.0\n",
      "8   1  0  1  0  0  0    0.0      37     0.0\n",
      "9   0  0  1  1  0  1    0.0     221     0.0\n",
      "10  1  0  0  1  0  0    0.0      19     0.0\n",
      "11  0  1  1  1  0  1    0.0      77     0.0\n",
      "12  1  1  1  0  1  0    0.0      52     0.0\n",
      "13  0  0  1  0  0  0    0.0     107     0.0\n",
      "14  0  1  1  0  0  0    0.0      38     0.0\n",
      "['BINARY', 15 rows, 1000 samples, 6 variables]\n"
     ]
    }
   ],
   "execution_count": 32
  },
  {
   "cell_type": "markdown",
   "source": [
    "Interpret the results."
   ],
   "metadata": {
    "id": "1SFCHnbLDVvo"
   }
  },
  {
   "cell_type": "code",
   "source": [],
   "metadata": {
    "id": "DjYSNu2QDX5W"
   },
   "execution_count": null,
   "outputs": []
  }
 ],
 "metadata": {
  "kernelspec": {
   "display_name": "Python 3",
   "language": "python",
   "name": "python3"
  },
  "language_info": {
   "codemirror_mode": {
    "name": "ipython",
    "version": 3
   },
   "file_extension": ".py",
   "mimetype": "text/x-python",
   "name": "python",
   "nbconvert_exporter": "python",
   "pygments_lexer": "ipython3",
   "version": "3.12.3"
  },
  "colab": {
   "provenance": [],
   "toc_visible": true
  }
 },
 "nbformat": 4,
 "nbformat_minor": 0
}
